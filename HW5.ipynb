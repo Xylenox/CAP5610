{
 "cells": [
  {
   "cell_type": "code",
   "execution_count": 1,
   "metadata": {},
   "outputs": [],
   "source": [
    "from math import *\n",
    "import random\n",
    "import time\n",
    "from tkinter import *\n",
    "\n",
    "######################################################################\n",
    "# This section contains functions for loading CSV (comma separated values)\n",
    "# files and convert them to a dataset of instances.\n",
    "# Each instance is a tuple of attributes. The entire dataset is a list\n",
    "# of tuples.\n",
    "######################################################################\n",
    "\n",
    "# Loads a CSV files into a list of tuples.\n",
    "# Ignores the first row of the file (header).\n",
    "# Numeric attributes are converted to floats, nominal attributes\n",
    "# are represented with strings.\n",
    "# Parameters:\n",
    "#   fileName: name of the CSV file to be read\n",
    "# Returns: a list of tuples\n",
    "def loadCSV(fileName):\n",
    "    fileHandler = open(fileName, \"rt\")\n",
    "    lines = fileHandler.readlines()\n",
    "    fileHandler.close()\n",
    "    dataset = []\n",
    "    for line in lines:\n",
    "        instance = lineToTuple(f'x{len(dataset)},'+line)\n",
    "        dataset.append(instance)\n",
    "    return dataset\n",
    "\n",
    "# Converts a comma separated string into a tuple\n",
    "# Parameters\n",
    "#   line: a string\n",
    "# Returns: a tuple\n",
    "def lineToTuple(line):\n",
    "    # remove leading/trailing witespace and newlines\n",
    "    cleanLine = line.strip()\n",
    "    # get rid of quotes\n",
    "    cleanLine = cleanLine.replace('\"', '')\n",
    "    # separate the fields\n",
    "    lineList = cleanLine.split(\",\")\n",
    "    # convert strings into numbers\n",
    "    stringsToNumbers(lineList)\n",
    "    lineTuple = tuple(lineList)\n",
    "    return lineTuple\n",
    "\n",
    "# Destructively converts all the string elements representing numbers\n",
    "# to floating point numbers.\n",
    "# Parameters:\n",
    "#   myList: a list of strings\n",
    "# Returns None\n",
    "def stringsToNumbers(myList):\n",
    "    for i in range(len(myList)):\n",
    "        if (isValidNumberString(myList[i])):\n",
    "            myList[i] = float(myList[i])\n",
    "\n",
    "# Checks if a given string can be safely converted into a positive float.\n",
    "# Parameters:\n",
    "#   s: the string to be checked\n",
    "# Returns: True if the string represents a positive float, False otherwise\n",
    "def isValidNumberString(s):\n",
    "  if len(s) == 0:\n",
    "    return False\n",
    "  if  len(s) > 1 and s[0] == \"-\":\n",
    "      s = s[1:]\n",
    "  for c in s:\n",
    "    if c not in \"0123456789.\":\n",
    "      return False\n",
    "  return True\n",
    "\n",
    "\n",
    "######################################################################\n",
    "# This section contains functions for clustering a dataset\n",
    "# using the k-means algorithm.\n",
    "######################################################################\n",
    "\n",
    "def distance(instance1, instance2, metric):\n",
    "    if instance1 == None or instance2 == None:\n",
    "        return float(\"inf\")\n",
    "    dist = 0\n",
    "    a, b = 0, 0\n",
    "    for i in range(1, len(instance1)):\n",
    "        if(isinstance(instance1[i], str) or isinstance(instance2[i], str)):\n",
    "            continue\n",
    "        if(metric == 'euclidean'):\n",
    "            dist += (instance1[i] - instance2[i])**2\n",
    "        elif(metric == 'manhattan'):\n",
    "            dist += abs(instance1[i] - instance2[i])\n",
    "        elif(metric == 'jacard'):\n",
    "            a += min(instance1[i], instance2[i])\n",
    "            b += max(instance1[i], instance2[i])\n",
    "        elif(metric == 'cosine'):\n",
    "            dist += instance1[i]*instance2[i]\n",
    "            a += instance1[i]*instance1[i]\n",
    "            b += instance2[i]*instance2[i]\n",
    "    if(metric == 'jacard'):\n",
    "        dist = 1-a/b\n",
    "    elif(metric == 'cosine'):\n",
    "        dist = 1-dist/sqrt(a*b)\n",
    "    return dist\n",
    "\n",
    "def meanInstance(name, instanceList):\n",
    "    numInstances = len(instanceList)\n",
    "    if (numInstances == 0):\n",
    "        return\n",
    "    numAttributes = len(instanceList[0])\n",
    "    abc = {}\n",
    "    means = [name] + [0] * (numAttributes-1)\n",
    "    for instance in instanceList:\n",
    "        for i in range(1, numAttributes):\n",
    "            if(isinstance(instance[i], str)):\n",
    "                if(not instance[i] in abc):\n",
    "                    abc[instance[i]] = 0\n",
    "                abc[instance[i]] += 1\n",
    "                means[i] = MaxKey = max(abc, key=abc.get)\n",
    "                continue\n",
    "            means[i] += instance[i]\n",
    "    for i in range(1, numAttributes):\n",
    "        if(isinstance(instance[i], str)):\n",
    "            continue\n",
    "        means[i] /= float(numInstances)\n",
    "    return tuple(means)\n",
    "\n",
    "def assign(instance, centroids, metric):\n",
    "    minDistance = distance(instance, centroids[0], metric)\n",
    "    minDistanceIndex = 0\n",
    "    for i in range(1, len(centroids)):\n",
    "        d = distance(instance, centroids[i], metric)\n",
    "        if (d < minDistance):\n",
    "            minDistance = d\n",
    "            minDistanceIndex = i\n",
    "    return minDistanceIndex\n",
    "\n",
    "def createEmptyListOfLists(numSubLists):\n",
    "    myList = []\n",
    "    for i in range(numSubLists):\n",
    "        myList.append([])\n",
    "    return myList\n",
    "\n",
    "def assignAll(instances, centroids, metric):\n",
    "    clusters = createEmptyListOfLists(len(centroids))\n",
    "    for instance in instances:\n",
    "        clusterIndex = assign(instance, centroids, metric)\n",
    "        clusters[clusterIndex].append(instance)\n",
    "    return clusters\n",
    "\n",
    "def computeCentroids(clusters):\n",
    "    centroids = []\n",
    "    for i in range(len(clusters)):\n",
    "        name = \"centroid\" + str(i)\n",
    "        centroid = meanInstance(name, clusters[i])\n",
    "        centroids.append(centroid)\n",
    "    return centroids\n",
    "\n",
    "def kmeans(instances, k, metric, iters=-1, initCentroids=None):\n",
    "    result = {}\n",
    "    if (initCentroids == None or len(initCentroids) < k):\n",
    "        # randomly select k initial centroids\n",
    "        random.seed(time.time())\n",
    "        centroids = random.sample(instances, k)\n",
    "    else:\n",
    "        centroids = initCentroids\n",
    "    prevCentroids = []\n",
    "    iteration = 0\n",
    "    prevwith = 1e70\n",
    "    while (centroids != prevCentroids or iters < -2):\n",
    "        iteration += 1\n",
    "        clusters = assignAll(instances, centroids, metric)\n",
    "        prevCentroids = centroids\n",
    "        centroids = computeCentroids(clusters)\n",
    "        withinss = computeWithinss(clusters, centroids, metric)\n",
    "        if(iteration == iters or (iters < -2 and iteration == -iters)):\n",
    "            break\n",
    "        if(iters == -2 and withinss > prevwith):\n",
    "            break\n",
    "        prevwith = withinss\n",
    "    result[\"clusters\"] = clusters\n",
    "    result[\"centroids\"] = centroids\n",
    "    result[\"withinss\"] = withinss\n",
    "    result[\"iterations\"] = iteration\n",
    "    return result\n",
    "\n",
    "def computeWithinss(clusters, centroids, metric):\n",
    "    result = 0\n",
    "    for i in range(len(centroids)):\n",
    "        centroid = centroids[i]\n",
    "        cluster = clusters[i]\n",
    "        for instance in cluster:\n",
    "            result += distance(centroid, instance, metric)**2\n",
    "    return result"
   ]
  },
  {
   "cell_type": "markdown",
   "metadata": {},
   "source": [
    "# Task 1"
   ]
  },
  {
   "cell_type": "code",
   "execution_count": 2,
   "metadata": {},
   "outputs": [],
   "source": [
    "data = [[\"x1\", 3, 5], [\"x2\", 3, 4], [\"x3\", 2, 8],\n",
    "        [\"x4\", 2, 3], [\"x5\", 6, 2], [\"x6\", 6, 4],\n",
    "        [\"x7\", 7, 3], [\"x8\", 7, 4], [\"x9\", 8, 5], [\"x10\", 7, 6]]"
   ]
  },
  {
   "cell_type": "markdown",
   "metadata": {},
   "source": [
    "## Q1"
   ]
  },
  {
   "cell_type": "code",
   "execution_count": 3,
   "metadata": {},
   "outputs": [
    {
     "name": "stdout",
     "output_type": "stream",
     "text": [
      "{'clusters': [[['x1', 3, 5], ['x3', 2, 8], ['x10', 7, 6]], [['x2', 3, 4], ['x4', 2, 3], ['x5', 6, 2], ['x6', 6, 4], ['x7', 7, 3], ['x8', 7, 4], ['x9', 8, 5]]], 'centroids': [('centroid0', 4.0, 6.333333333333333), ('centroid1', 5.571428571428571, 3.5714285714285716)], 'withinss': 83.22448979591836, 'iterations': 1}\n",
      "{'clusters': [[['x1', 3, 5], ['x3', 2, 8], ['x10', 7, 6]], [['x2', 3, 4], ['x4', 2, 3], ['x5', 6, 2], ['x6', 6, 4], ['x7', 7, 3], ['x8', 7, 4], ['x9', 8, 5]]], 'centroids': [('centroid0', 4.0, 6.333333333333333), ('centroid1', 5.571428571428571, 3.5714285714285716)], 'withinss': 83.22448979591836, 'iterations': 2}\n"
     ]
    }
   ],
   "source": [
    "print(kmeans(data, 2, 'manhattan', 1, [['c1', 4, 6], ['c2', 5, 4]]))\n",
    "print(kmeans(data, 2, 'manhattan', -1, [['c1', 4, 6], ['c2', 5, 4]]))"
   ]
  },
  {
   "cell_type": "markdown",
   "metadata": {},
   "source": [
    "## Q2"
   ]
  },
  {
   "cell_type": "code",
   "execution_count": 4,
   "metadata": {},
   "outputs": [
    {
     "name": "stdout",
     "output_type": "stream",
     "text": [
      "{'clusters': [[['x1', 3, 5], ['x3', 2, 8]], [['x2', 3, 4], ['x4', 2, 3], ['x5', 6, 2], ['x6', 6, 4], ['x7', 7, 3], ['x8', 7, 4], ['x9', 8, 5], ['x10', 7, 6]]], 'centroids': [('centroid0', 2.5, 6.5), ('centroid1', 5.75, 3.875)], 'withinss': 387.509765625, 'iterations': 1}\n",
      "{'clusters': [[['x1', 3, 5], ['x2', 3, 4], ['x3', 2, 8], ['x4', 2, 3]], [['x5', 6, 2], ['x6', 6, 4], ['x7', 7, 3], ['x8', 7, 4], ['x9', 8, 5], ['x10', 7, 6]]], 'centroids': [('centroid0', 2.5, 5.0), ('centroid1', 6.833333333333333, 4.0)], 'withinss': 150.625, 'iterations': 3}\n"
     ]
    }
   ],
   "source": [
    "print(kmeans(data, 2, 'euclidean', 1, [['c1', 4, 6], ['c2', 5, 4]]))\n",
    "print(kmeans(data, 2, 'euclidean', -1, [['c1', 4, 6], ['c2', 5, 4]]))"
   ]
  },
  {
   "cell_type": "markdown",
   "metadata": {},
   "source": [
    "## Q3"
   ]
  },
  {
   "cell_type": "code",
   "execution_count": 5,
   "metadata": {},
   "outputs": [
    {
     "name": "stdout",
     "output_type": "stream",
     "text": [
      "{'clusters': [[['x1', 3, 5], ['x2', 3, 4], ['x3', 2, 8], ['x4', 2, 3]], [['x5', 6, 2], ['x6', 6, 4], ['x7', 7, 3], ['x8', 7, 4], ['x9', 8, 5], ['x10', 7, 6]]], 'centroids': [('centroid0', 2.5, 5.0), ('centroid1', 6.833333333333333, 4.0)], 'withinss': 40.5, 'iterations': 1}\n",
      "{'clusters': [[['x1', 3, 5], ['x2', 3, 4], ['x3', 2, 8], ['x4', 2, 3]], [['x5', 6, 2], ['x6', 6, 4], ['x7', 7, 3], ['x8', 7, 4], ['x9', 8, 5], ['x10', 7, 6]]], 'centroids': [('centroid0', 2.5, 5.0), ('centroid1', 6.833333333333333, 4.0)], 'withinss': 40.5, 'iterations': 2}\n"
     ]
    }
   ],
   "source": [
    "print(kmeans(data, 2, 'manhattan', 1, [['c1', 3, 3], ['c2', 8, 3]]))\n",
    "print(kmeans(data, 2, 'manhattan', -1, [['c1', 3, 3], ['c2', 8, 3]]))"
   ]
  },
  {
   "cell_type": "markdown",
   "metadata": {},
   "source": [
    "## Q4"
   ]
  },
  {
   "cell_type": "code",
   "execution_count": 6,
   "metadata": {},
   "outputs": [
    {
     "name": "stdout",
     "output_type": "stream",
     "text": [
      "{'clusters': [[['x1', 3, 5], ['x2', 3, 4], ['x4', 2, 3], ['x5', 6, 2], ['x6', 6, 4], ['x7', 7, 3], ['x8', 7, 4]], [['x3', 2, 8], ['x9', 8, 5], ['x10', 7, 6]]], 'centroids': [('centroid0', 4.857142857142857, 3.5714285714285716), ('centroid1', 5.666666666666667, 6.333333333333333)], 'withinss': 96.25850340136054, 'iterations': 1}\n",
      "{'clusters': [[['x1', 3, 5], ['x2', 3, 4], ['x4', 2, 3], ['x5', 6, 2], ['x6', 6, 4], ['x7', 7, 3], ['x8', 7, 4]], [['x3', 2, 8], ['x9', 8, 5], ['x10', 7, 6]]], 'centroids': [('centroid0', 4.857142857142857, 3.5714285714285716), ('centroid1', 5.666666666666667, 6.333333333333333)], 'withinss': 96.25850340136054, 'iterations': 2}\n"
     ]
    }
   ],
   "source": [
    "print(kmeans(data, 2, 'manhattan', 1, [['c1', 3, 2], ['c2', 4, 8]]))\n",
    "print(kmeans(data, 2, 'manhattan', -1, [['c1', 3, 2], ['c2', 4, 8]]))"
   ]
  },
  {
   "cell_type": "markdown",
   "metadata": {},
   "source": [
    "# Task 2"
   ]
  },
  {
   "cell_type": "code",
   "execution_count": 7,
   "metadata": {},
   "outputs": [],
   "source": [
    "iris = loadCSV('iris.data')"
   ]
  },
  {
   "cell_type": "markdown",
   "metadata": {},
   "source": [
    "## Q1"
   ]
  },
  {
   "cell_type": "code",
   "execution_count": 8,
   "metadata": {},
   "outputs": [
    {
     "name": "stdout",
     "output_type": "stream",
     "text": [
      "84.83745513407887 0.0003446871125918868 1.0452360489145653\n"
     ]
    }
   ],
   "source": [
    "euclid = kmeans(iris, 3, metric='euclidean')\n",
    "cosine = kmeans(iris, 3, 'cosine')\n",
    "jacard = kmeans(iris, 3, metric='jacard')\n",
    "print(euclid['withinss'], cosine['withinss'], jacard['withinss'])\n"
   ]
  },
  {
   "cell_type": "markdown",
   "metadata": {},
   "source": [
    "## Q2"
   ]
  },
  {
   "cell_type": "code",
   "execution_count": 9,
   "metadata": {},
   "outputs": [
    {
     "name": "stdout",
     "output_type": "stream",
     "text": [
      "0.8933333333333333 0.9666666666666667 0.88\n"
     ]
    }
   ],
   "source": [
    "def acc(res):\n",
    "    ac = 0\n",
    "    tot = 0\n",
    "    for i in range(len(res['centroids'])):\n",
    "        for j in res['clusters'][i]:\n",
    "            if(j[5] == res['centroids'][i][5]):\n",
    "                ac += 1\n",
    "            tot += 1\n",
    "    return ac/tot\n",
    "print(acc(euclid), acc(cosine), acc(jacard))"
   ]
  },
  {
   "cell_type": "markdown",
   "metadata": {},
   "source": [
    "## Q3"
   ]
  },
  {
   "cell_type": "code",
   "execution_count": 10,
   "metadata": {},
   "outputs": [
    {
     "name": "stdout",
     "output_type": "stream",
     "text": [
      "4 4 4\n"
     ]
    }
   ],
   "source": [
    "\n",
    "print(euclid['iterations'], cosine['iterations'], jacard['iterations'])"
   ]
  },
  {
   "cell_type": "markdown",
   "metadata": {},
   "source": [
    "## Q4"
   ]
  },
  {
   "cell_type": "code",
   "execution_count": 18,
   "metadata": {},
   "outputs": [
    {
     "name": "stdout",
     "output_type": "stream",
     "text": [
      "euclidean 6 13 100\n",
      "cosine 5 2 100\n",
      "jacard 5 6 100\n"
     ]
    }
   ],
   "source": [
    "def test(metric):\n",
    "    print(metric, kmeans(iris, 3, metric, -1)['iterations'], kmeans(iris, 3, metric, -2)['iterations'], kmeans(iris, 3, metric, -100)['iterations'])\n",
    "test('euclidean')\n",
    "test('cosine')\n",
    "test('jacard')"
   ]
  },
  {
   "cell_type": "markdown",
   "metadata": {},
   "source": [
    "# Task 4"
   ]
  },
  {
   "cell_type": "code",
   "execution_count": 12,
   "metadata": {},
   "outputs": [
    {
     "name": "stdout",
     "output_type": "stream",
     "text": [
      "[[0.22360679774997919], [0.36055512754639885, 0.1414213562373093], [0.3162277660168384, 0.36055512754639957, 0.4123105625617664]]\n",
      "[[0.8062257748298547], [0.22360679774997896, 0.7071067811865478], [0.5000000000000002, 0.5830951894845302, 0.2828427124746193]]\n"
     ]
    }
   ],
   "source": [
    "import numpy as np\n",
    "\n",
    "red = [[4.7, 3.2], [4.9, 3.1], [5.0, 3.0], [4.6, 2.9]]\n",
    "blue = [[5.9, 3.2], [6.7, 3.1], [6.0, 3.0], [6.2, 2.8]]\n",
    "redDist = [[hypot(red[i][0]-red[j][0], red[i][1]-red[j][1]) for j in range(i)] for i in range(1, 4)]\n",
    "blueDist = [[hypot(blue[i][0]-blue[j][0], blue[i][1]-blue[j][1]) for j in range(i)] for i in range(1, 4)]\n",
    "\n",
    "def apply(x):\n",
    "    return x([x(map(x, redDist)), x(map(x, blueDist))])\n",
    "print(redDist)\n",
    "print(blueDist)"
   ]
  },
  {
   "cell_type": "markdown",
   "metadata": {},
   "source": [
    "## Q1"
   ]
  },
  {
   "cell_type": "code",
   "execution_count": 13,
   "metadata": {},
   "outputs": [
    {
     "data": {
      "text/plain": [
       "0.8062257748298547"
      ]
     },
     "execution_count": 13,
     "metadata": {},
     "output_type": "execute_result"
    }
   ],
   "source": [
    "apply(max)"
   ]
  },
  {
   "cell_type": "markdown",
   "metadata": {},
   "source": [
    "## Q2"
   ]
  },
  {
   "cell_type": "code",
   "execution_count": 14,
   "metadata": {},
   "outputs": [
    {
     "data": {
      "text/plain": [
       "0.1414213562373093"
      ]
     },
     "execution_count": 14,
     "metadata": {},
     "output_type": "execute_result"
    }
   ],
   "source": [
    "apply(min)"
   ]
  },
  {
   "cell_type": "markdown",
   "metadata": {},
   "source": [
    "## Q3"
   ]
  },
  {
   "cell_type": "code",
   "execution_count": 15,
   "metadata": {},
   "outputs": [
    {
     "data": {
      "text/plain": [
       "0.4097961661153519"
      ]
     },
     "execution_count": 15,
     "metadata": {},
     "output_type": "execute_result"
    }
   ],
   "source": [
    "apply(sum)/12"
   ]
  }
 ],
 "metadata": {
  "kernelspec": {
   "display_name": "Python 3",
   "language": "python",
   "name": "python3"
  },
  "language_info": {
   "codemirror_mode": {
    "name": "ipython",
    "version": 3
   },
   "file_extension": ".py",
   "mimetype": "text/x-python",
   "name": "python",
   "nbconvert_exporter": "python",
   "pygments_lexer": "ipython3",
   "version": "3.8.3"
  }
 },
 "nbformat": 4,
 "nbformat_minor": 4
}
