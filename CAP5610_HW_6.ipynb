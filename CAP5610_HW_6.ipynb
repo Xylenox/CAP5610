{
  "nbformat": 4,
  "nbformat_minor": 0,
  "metadata": {
    "kernelspec": {
      "display_name": "Python 3",
      "language": "python",
      "name": "python3"
    },
    "language_info": {
      "codemirror_mode": {
        "name": "ipython",
        "version": 3
      },
      "file_extension": ".py",
      "mimetype": "text/x-python",
      "name": "python",
      "nbconvert_exporter": "python",
      "pygments_lexer": "ipython3",
      "version": "3.8.3"
    },
    "colab": {
      "name": "CAP5610 HW 6.ipynb",
      "provenance": [],
      "collapsed_sections": [],
      "include_colab_link": true
    }
  },
  "cells": [
    {
      "cell_type": "markdown",
      "metadata": {
        "id": "view-in-github",
        "colab_type": "text"
      },
      "source": [
        "<a href=\"https://colab.research.google.com/github/Xylenox/CAP5610/blob/main/CAP5610_HW_6.ipynb\" target=\"_parent\"><img src=\"https://colab.research.google.com/assets/colab-badge.svg\" alt=\"Open In Colab\"/></a>"
      ]
    },
    {
      "cell_type": "markdown",
      "metadata": {
        "id": "iIjiZDJdxAX4"
      },
      "source": [
        "# Load Data"
      ]
    },
    {
      "cell_type": "code",
      "metadata": {
        "id": "6CYyg6P8xAX4"
      },
      "source": [
        "import numpy as np"
      ],
      "execution_count": null,
      "outputs": []
    },
    {
      "cell_type": "code",
      "metadata": {
        "id": "_ojJ-rU5xAX5"
      },
      "source": [
        "from surprise import Dataset\n",
        "from surprise import Reader\n",
        "\n",
        "reader = Reader(line_format='user item rating timestamp',sep=',',skip_lines=1)\n",
        "data = Dataset.load_from_file('ratings_small.csv', reader=reader)"
      ],
      "execution_count": null,
      "outputs": []
    },
    {
      "cell_type": "code",
      "metadata": {
        "id": "bHFDUkrSxAX5"
      },
      "source": [
        "from surprise.model_selection import cross_validate"
      ],
      "execution_count": null,
      "outputs": []
    },
    {
      "cell_type": "code",
      "metadata": {
        "id": "rn8xxCGhxAX5"
      },
      "source": [
        "def average_metric(model, data):\n",
        "    res = cross_validate(model, data)\n",
        "#     print(res)\n",
        "    return {'average_mae': np.average(res['test_mae']),\n",
        "            'average_rmse': np.average(res['test_rmse']),\n",
        "            'average_fit_time': np.average(res['fit_time']),\n",
        "            'average_test_time': np.average(res['test_time'])}"
      ],
      "execution_count": null,
      "outputs": []
    },
    {
      "cell_type": "markdown",
      "metadata": {
        "id": "xfqY32x9xAX5"
      },
      "source": [
        "# C"
      ]
    },
    {
      "cell_type": "code",
      "metadata": {
        "id": "dtB0IFdrxAX5",
        "outputId": "9ebf1114-36a7-4b07-bba2-7985d4faf9bf"
      },
      "source": [
        "from surprise import SVD\n",
        "print(average_metric(SVD(biased=False), data))"
      ],
      "execution_count": null,
      "outputs": [
        {
          "output_type": "stream",
          "text": [
            "{'average_mae': 0.7798378965882099, 'average_rmse': 1.010060674407946, 'average_fit_time': 2.7356422901153565, 'average_test_time': 0.11713156700134278}\n"
          ],
          "name": "stdout"
        }
      ]
    },
    {
      "cell_type": "code",
      "metadata": {
        "id": "GCaJkFt5xAX6",
        "outputId": "5d7fa579-1721-4444-88cf-7823b6d61b71"
      },
      "source": [
        "from surprise import KNNBasic\n",
        "\n",
        "print(average_metric(KNNBasic(verbose=False), data))"
      ],
      "execution_count": null,
      "outputs": [
        {
          "output_type": "stream",
          "text": [
            "{'average_mae': 0.7437754583814989, 'average_rmse': 0.9676999729111021, 'average_fit_time': 0.07518153190612793, 'average_test_time': 1.197641658782959}\n"
          ],
          "name": "stdout"
        }
      ]
    },
    {
      "cell_type": "code",
      "metadata": {
        "id": "m1gGGiprxAX6",
        "outputId": "0152afa0-129b-459e-cc90-4c9056fe9275"
      },
      "source": [
        "from surprise import KNNBasic\n",
        "\n",
        "print(average_metric(KNNBasic(sim_options={'user_based': False}, verbose=False), data))"
      ],
      "execution_count": null,
      "outputs": [
        {
          "output_type": "stream",
          "text": [
            "{'average_mae': 0.7208055544651335, 'average_rmse': 0.9350880624728829, 'average_fit_time': 2.474119758605957, 'average_test_time': 4.980966329574585}\n"
          ],
          "name": "stdout"
        }
      ]
    },
    {
      "cell_type": "markdown",
      "metadata": {
        "id": "wRdyjOQIxAX7"
      },
      "source": [
        "# E"
      ]
    },
    {
      "cell_type": "code",
      "metadata": {
        "id": "_ZqUXcZExAX7"
      },
      "source": [
        "measures = ['cosine', 'msd', 'pearson']"
      ],
      "execution_count": null,
      "outputs": []
    },
    {
      "cell_type": "code",
      "metadata": {
        "id": "mQLGzFgVxAX7",
        "outputId": "3142b42f-ba96-4727-d99c-e7fa19552dfd"
      },
      "source": [
        "user_mse = []\n",
        "for measure in measures:\n",
        "    res = average_metric(KNNBasic(sim_options={'name': measure}, verbose=False), data)\n",
        "    user_mse.append(res['average_mae'])\n",
        "    print(res)"
      ],
      "execution_count": null,
      "outputs": [
        {
          "output_type": "stream",
          "text": [
            "{'average_mae': 0.766869008839653, 'average_rmse': 0.9924562583594744, 'average_fit_time': 0.3101259708404541, 'average_test_time': 1.23792462348938}\n",
            "{'average_mae': 0.7433056512634811, 'average_rmse': 0.9672350552515647, 'average_fit_time': 0.07739453315734864, 'average_test_time': 1.2418458938598633}\n",
            "{'average_mae': 0.7727279749517684, 'average_rmse': 0.9988834775514143, 'average_fit_time': 0.4608065128326416, 'average_test_time': 1.2280702590942383}\n"
          ],
          "name": "stdout"
        }
      ]
    },
    {
      "cell_type": "code",
      "metadata": {
        "id": "kcVo5ecZxAX7",
        "outputId": "0dbe4d00-b085-468c-b62b-ed3f6bc13046"
      },
      "source": [
        "item_mse = []\n",
        "for measure in measures:\n",
        "    res = average_metric(KNNBasic(sim_options={'name': measure, 'user_based': False}, verbose=False), data)\n",
        "    item_mse.append(res['average_mae'])\n",
        "    print(res)"
      ],
      "execution_count": null,
      "outputs": [
        {
          "output_type": "stream",
          "text": [
            "{'average_mae': 0.7752412346973611, 'average_rmse': 0.9953623164289862, 'average_fit_time': 12.121408700942993, 'average_test_time': 5.066502618789673}\n",
            "{'average_mae': 0.7206548873434995, 'average_rmse': 0.934757652737828, 'average_fit_time': 2.577119159698486, 'average_test_time': 5.198177099227905}\n",
            "{'average_mae': 0.7673598808995274, 'average_rmse': 0.98802724475312, 'average_fit_time': 16.948666191101076, 'average_test_time': 5.138703060150147}\n"
          ],
          "name": "stdout"
        }
      ]
    },
    {
      "cell_type": "code",
      "metadata": {
        "id": "V5jxjPuexAX7",
        "outputId": "07932606-aba3-436d-ea9e-3752b53c0d54"
      },
      "source": [
        "user_mse"
      ],
      "execution_count": null,
      "outputs": [
        {
          "output_type": "execute_result",
          "data": {
            "text/plain": [
              "[0.766869008839653, 0.7433056512634811, 0.7727279749517684]"
            ]
          },
          "metadata": {
            "tags": []
          },
          "execution_count": 11
        }
      ]
    },
    {
      "cell_type": "code",
      "metadata": {
        "id": "UppFKcQgxAX8",
        "outputId": "2c122012-2794-4d1d-8a61-2346842db822"
      },
      "source": [
        "item_mse"
      ],
      "execution_count": null,
      "outputs": [
        {
          "output_type": "execute_result",
          "data": {
            "text/plain": [
              "[0.7752412346973611, 0.7206548873434995, 0.7673598808995274]"
            ]
          },
          "metadata": {
            "tags": []
          },
          "execution_count": 12
        }
      ]
    },
    {
      "cell_type": "code",
      "metadata": {
        "id": "5IAEXyT1xAX8"
      },
      "source": [
        "import matplotlib.pyplot as plt\n",
        "%matplotlib inline"
      ],
      "execution_count": null,
      "outputs": []
    },
    {
      "cell_type": "code",
      "metadata": {
        "id": "tfplYXhwxAX8",
        "outputId": "744eb981-5cdb-4187-af9f-881b426afcc9"
      },
      "source": [
        "x = np.arange(3)\n",
        "\n",
        "w = 0.3\n",
        "\n",
        "ax1 = plt.subplot(1,1,1)\n",
        "ax1.set_ylim(0.7, 0.8)\n",
        "plt.xticks(x + w /2, measures, rotation='vertical')\n",
        "\n",
        "uw = ax1.bar(x, user_mse, width=w, color='b', align='center')\n",
        "\n",
        "ax2 = ax1.twinx()\n",
        "ax2.set_ylim(0.7, 0.8)\n",
        "iw = ax2.bar(x + w, item_mse, width=w,color='g',align='center')\n",
        "\n",
        "\n",
        "plt.ylabel('MSE')\n",
        "plt.legend([uw, iw],['User-User', 'Item-Item'])\n",
        "\n",
        "plt.savefig('e.png')"
      ],
      "execution_count": null,
      "outputs": [
        {
          "output_type": "display_data",
          "data": {
            "image/png": "[encoded data removed]",
            "text/plain": [
              "<Figure size 432x288 with 2 Axes>"
            ]
          },
          "metadata": {
            "tags": [],
            "needs_background": "light"
          }
        }
      ]
    },
    {
      "cell_type": "markdown",
      "metadata": {
        "id": "e8VHj7g7xAX8"
      },
      "source": [
        "# F"
      ]
    },
    {
      "cell_type": "code",
      "metadata": {
        "id": "Mb2guahUxAX8"
      },
      "source": [
        "ks = range(25, 400, 25)"
      ],
      "execution_count": null,
      "outputs": []
    },
    {
      "cell_type": "code",
      "metadata": {
        "id": "8YAYisRGxAX8",
        "outputId": "bdec07c4-160d-4fe2-ddff-ec0412cbca2e"
      },
      "source": [
        "list(ks)"
      ],
      "execution_count": null,
      "outputs": [
        {
          "output_type": "execute_result",
          "data": {
            "text/plain": [
              "[25, 50, 75, 100, 125, 150, 175, 200, 225, 250, 275, 300, 325, 350, 375]"
            ]
          },
          "metadata": {
            "tags": []
          },
          "execution_count": 16
        }
      ]
    },
    {
      "cell_type": "code",
      "metadata": {
        "id": "crU-p1c3xAX8",
        "outputId": "ea71a006-4fd3-4b3d-e51f-fa7bb45c450e"
      },
      "source": [
        "user_ks_mse = []\n",
        "for k in ks:\n",
        "    res = average_metric(KNNBasic(k=k, verbose=False), data)\n",
        "    user_ks_mse.append(res['average_mae'])\n",
        "    print(res)"
      ],
      "execution_count": null,
      "outputs": [
        {
          "output_type": "stream",
          "text": [
            "{'average_mae': 0.7393422824642153, 'average_rmse': 0.9638536297799012, 'average_fit_time': 0.07187452316284179, 'average_test_time': 1.047390079498291}\n",
            "{'average_mae': 0.7459928448818882, 'average_rmse': 0.9704478325759943, 'average_fit_time': 0.07277531623840332, 'average_test_time': 1.2285968780517578}\n",
            "{'average_mae': 0.7499682831160192, 'average_rmse': 0.9729800366420731, 'average_fit_time': 0.06938567161560058, 'average_test_time': 1.2553394794464112}\n",
            "{'average_mae': 0.7527127622359198, 'average_rmse': 0.9763921540338003, 'average_fit_time': 0.07100930213928222, 'average_test_time': 1.3367743492126465}\n",
            "{'average_mae': 0.7537889673486913, 'average_rmse': 0.976964037745916, 'average_fit_time': 0.07579069137573242, 'average_test_time': 1.3883100032806397}\n",
            "{'average_mae': 0.7544549742684631, 'average_rmse': 0.9775742634538952, 'average_fit_time': 0.08260793685913086, 'average_test_time': 1.4553606510162354}\n",
            "{'average_mae': 0.7545486003358565, 'average_rmse': 0.9777394723848076, 'average_fit_time': 0.08305859565734863, 'average_test_time': 1.4544688224792481}\n",
            "{'average_mae': 0.7549029525768789, 'average_rmse': 0.9780293335097351, 'average_fit_time': 0.07531471252441406, 'average_test_time': 1.399957275390625}\n",
            "{'average_mae': 0.7555347606233418, 'average_rmse': 0.9783010012028042, 'average_fit_time': 0.07347645759582519, 'average_test_time': 1.3966630458831788}\n",
            "{'average_mae': 0.7546728979452053, 'average_rmse': 0.9773199667539657, 'average_fit_time': 0.07683415412902832, 'average_test_time': 1.3965490818023683}\n",
            "{'average_mae': 0.7559391858198328, 'average_rmse': 0.9794771208661965, 'average_fit_time': 0.0785557746887207, 'average_test_time': 1.356842851638794}\n",
            "{'average_mae': 0.7544999584212126, 'average_rmse': 0.9777717057035383, 'average_fit_time': 0.08161697387695313, 'average_test_time': 1.379826307296753}\n",
            "{'average_mae': 0.7553046355182572, 'average_rmse': 0.9782508533345634, 'average_fit_time': 0.07969350814819336, 'average_test_time': 1.3420277118682862}\n",
            "{'average_mae': 0.7557475547918774, 'average_rmse': 0.9783588385507433, 'average_fit_time': 0.08268704414367675, 'average_test_time': 1.4023738384246827}\n",
            "{'average_mae': 0.7549363343337983, 'average_rmse': 0.9777447936121468, 'average_fit_time': 0.08307557106018067, 'average_test_time': 1.3729677200317383}\n"
          ],
          "name": "stdout"
        }
      ]
    },
    {
      "cell_type": "code",
      "metadata": {
        "id": "X6GyqHFPxAX8",
        "outputId": "63b76ce3-afec-4502-fdee-6658c0bf493c"
      },
      "source": [
        "item_ks_mse = []\n",
        "for k in ks:\n",
        "    res = average_metric(KNNBasic(sim_options={'user_based': False}, k=k, verbose=False), data)\n",
        "    item_ks_mse.append(res['average_mae'])\n",
        "    print(res)"
      ],
      "execution_count": null,
      "outputs": [
        {
          "output_type": "stream",
          "text": [
            "{'average_mae': 0.7283857095459746, 'average_rmse': 0.9426261712879558, 'average_fit_time': 2.596321439743042, 'average_test_time': 4.803444528579712}\n",
            "{'average_mae': 0.7191339249394938, 'average_rmse': 0.9336747664515492, 'average_fit_time': 2.635507869720459, 'average_test_time': 5.4387805461883545}\n",
            "{'average_mae': 0.7178543049279673, 'average_rmse': 0.9314073172078292, 'average_fit_time': 2.604146718978882, 'average_test_time': 5.905649137496948}\n",
            "{'average_mae': 0.7180936849152779, 'average_rmse': 0.9319318201889162, 'average_fit_time': 2.5361016273498533, 'average_test_time': 6.350568675994873}\n",
            "{'average_mae': 0.7192712330530335, 'average_rmse': 0.9335070556993568, 'average_fit_time': 2.5613640785217284, 'average_test_time': 6.768917751312256}\n",
            "{'average_mae': 0.7192239699752344, 'average_rmse': 0.9337340589690319, 'average_fit_time': 2.635662651062012, 'average_test_time': 7.27080454826355}\n",
            "{'average_mae': 0.7200037553845147, 'average_rmse': 0.9343267219171022, 'average_fit_time': 2.6311203479766845, 'average_test_time': 7.470791578292847}\n",
            "{'average_mae': 0.721891437957478, 'average_rmse': 0.9362615551969814, 'average_fit_time': 2.5568964958190916, 'average_test_time': 7.6041606903076175}\n",
            "{'average_mae': 0.7222595221701494, 'average_rmse': 0.9365293276443543, 'average_fit_time': 2.584178638458252, 'average_test_time': 7.8800677299499515}\n",
            "{'average_mae': 0.7228785013516454, 'average_rmse': 0.9376802507114066, 'average_fit_time': 2.550780439376831, 'average_test_time': 8.034789657592773}\n",
            "{'average_mae': 0.7240959458334603, 'average_rmse': 0.9386164081696661, 'average_fit_time': 2.633546733856201, 'average_test_time': 8.124852180480957}\n",
            "{'average_mae': 0.7241753290418784, 'average_rmse': 0.9388861514279553, 'average_fit_time': 2.631192922592163, 'average_test_time': 8.223645877838134}\n",
            "{'average_mae': 0.7243930698472841, 'average_rmse': 0.939317531437663, 'average_fit_time': 2.5331658840179445, 'average_test_time': 8.443956899642945}\n",
            "{'average_mae': 0.7254227077120199, 'average_rmse': 0.9404399192574993, 'average_fit_time': 2.5311110973358155, 'average_test_time': 8.43308653831482}\n",
            "{'average_mae': 0.7260706515468213, 'average_rmse': 0.9414770945764204, 'average_fit_time': 2.5384138584136964, 'average_test_time': 8.640012264251709}\n"
          ],
          "name": "stdout"
        }
      ]
    },
    {
      "cell_type": "code",
      "metadata": {
        "id": "GWqkWeAmxAX9",
        "outputId": "dc76803f-ab29-485e-da0e-6d077d1f3262"
      },
      "source": [
        "x = np.arange(len(ks))\n",
        "\n",
        "w = 0.3\n",
        "\n",
        "ax1 = plt.subplot(1,1,1)\n",
        "ax1.set_ylim(0.7, 0.78)\n",
        "plt.xticks(x + w /2, ks, rotation='vertical')\n",
        "\n",
        "uw = ax1.bar(x, user_ks_mse, width=w, color='b', align='center')\n",
        "\n",
        "ax2 = ax1.twinx()\n",
        "ax2.set_ylim(0.7, 0.78)\n",
        "iw = ax2.bar(x + w, item_ks_mse, width=w,color='g',align='center')\n",
        "\n",
        "\n",
        "plt.ylabel('MSE')\n",
        "plt.legend([uw, iw],['User-User', 'Item-Item'])\n",
        "\n",
        "plt.savefig('f.png')"
      ],
      "execution_count": null,
      "outputs": [
        {
          "output_type": "display_data",
          "data": {
            "image/png": "[encoded data removed]",
            "text/plain": [
              "<Figure size 432x288 with 2 Axes>"
            ]
          },
          "metadata": {
            "tags": [],
            "needs_background": "light"
          }
        }
      ]
    }
  ]
}